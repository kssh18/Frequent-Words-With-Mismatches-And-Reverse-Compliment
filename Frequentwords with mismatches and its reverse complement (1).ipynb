{
 "cells": [
  {
   "cell_type": "markdown",
   "metadata": {},
   "source": [
    "# This is code for finding frequent words with most mismtaches and reverse complement in a DNA string.\n",
    "Given: A DNA string Text as well as integers k and d.\n",
    "\n",
    "\n",
    "Return: All k-mers Pattern maximizing the sum Countd(Text, Pattern) + Countd(Text, Pattern) over all possible k-mers."
   ]
  },
  {
   "cell_type": "markdown",
   "metadata": {},
   "source": [
    "# Sample Input : \n",
    " ACGTTGCATGTCGCATGATGCATGAGAGCT\n",
    " \n",
    " 4 1 "
   ]
  },
  {
   "cell_type": "markdown",
   "metadata": {},
   "source": [
    "# Sample Output\n",
    "ATGT ACAT"
   ]
  },
  {
   "cell_type": "code",
   "execution_count": 6,
   "metadata": {},
   "outputs": [
    {
     "name": "stdout",
     "output_type": "stream",
     "text": [
      "AATAC GTATT "
     ]
    }
   ],
   "source": [
    "from collections import defaultdict\n",
    "from Bio import Seq\n",
    "\n",
    "def HammingDistance(s1, s2):\n",
    "    d = sum([1 for i in range(len(s1)) if s1[i]!=s2[i]])\n",
    "    return d\n",
    "\n",
    "def ReversePattern(pattern):\n",
    "    return Seq.reverse_complement(pattern)\n",
    "\n",
    "def neighbour(pattern, mismatch, words):\n",
    "    if mismatch == 0:\n",
    "        words.add(pattern)\n",
    "    else:\n",
    "        bases = ['A', 'T', 'C', 'G']\n",
    "        for i in range(len(pattern)):\n",
    "            for j in range(len(bases)):\n",
    "                new_pattern = pattern[:i] + bases[j] + pattern[i+1:]\n",
    "                if mismatch <= 1:\n",
    "                    words.add(new_pattern)\n",
    "                else:\n",
    "                    neighbour(new_pattern, mismatch-1, words)\n",
    "\n",
    "def FindMostFrequentPattern(text, k, d):\n",
    "    allfrequentwords = defaultdict(int)\n",
    "    for i in range(len(text) - k + 1):\n",
    "        frequentwords = set()\n",
    "        neighbour(text[i:i + k], d, frequentwords)\n",
    "\n",
    "        for words in frequentwords:\n",
    "            allfrequentwords[words] += 1\n",
    "\n",
    "    for t in allfrequentwords.keys():\n",
    "        reverse_k = ReversePattern(t)\n",
    "        for i in range(len(text) - k + 1):\n",
    "            if HammingDistance(text[i:i + k], reverse_k) <= d:\n",
    "                allfrequentwords[t] += 1\n",
    "\n",
    "    result = set()\n",
    "    for t in allfrequentwords.keys():\n",
    "        if allfrequentwords[t] == max(allfrequentwords.values()):\n",
    "            result.add(t)\n",
    "            result.add(ReversePattern(t))\n",
    "    for i in result:\n",
    "        print(i, end=\" \")\n",
    "        \n",
    "if __name__ == \"__main__\":\n",
    "    # text = 'ACGTTGCATGTCGCATGATGCATGAGAGCT'\n",
    "    # k, d = 4, 1\n",
    "    with open(\"rosalind_ba1j_2_dataset.txt\", \"r\") as f:\n",
    "        text = f.readline().strip()\n",
    "        k, d = map(int, f.readline().strip().split())\n",
    "    FindMostFrequentPattern(text, k, d)"
   ]
  },
  {
   "cell_type": "code",
   "execution_count": null,
   "metadata": {},
   "outputs": [],
   "source": []
  }
 ],
 "metadata": {
  "kernelspec": {
   "display_name": "Python 3",
   "language": "python",
   "name": "python3"
  },
  "language_info": {
   "codemirror_mode": {
    "name": "ipython",
    "version": 3
   },
   "file_extension": ".py",
   "mimetype": "text/x-python",
   "name": "python",
   "nbconvert_exporter": "python",
   "pygments_lexer": "ipython3",
   "version": "3.8.3"
  }
 },
 "nbformat": 4,
 "nbformat_minor": 4
}
